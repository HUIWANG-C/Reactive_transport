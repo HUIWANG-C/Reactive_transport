{
 "cells": [
  {
   "cell_type": "markdown",
   "id": "871655e2-7367-4eff-a3c2-2e9ec4b3da75",
   "metadata": {},
   "source": [
    "# Post-processing the simulation results of **M**\n",
    "\n",
    "In this notebook, we process and visualise the outputted numerical results containning the total mass of solute  \n",
    "**Structure dimensions:**  \n",
    "- domain length: $L=11.4$ cm\n",
    "- domain width : $W=7.3$ cm\n",
    "- gain diameter: $d=0.92$ mm\n",
    "\n",
    "**OpenFoam**  \n",
    "The steady-state flow field is calculated using the modified _simpleHeleShaw_ solver in OpenFoam.  \n",
    "**PTOF**  \n",
    "The mean flow velocity is integrated while running the PTOF code: $\\overline{u}=$  \n",
    "The advective time unit: $\\tau_a=\\frac{\\overline{u}}{d}=$"
   ]
  },
  {
   "cell_type": "code",
   "execution_count": 2,
   "id": "144dd038-b0f8-4be2-8f6d-20eb5a9bcb8c",
   "metadata": {},
   "outputs": [],
   "source": [
    "import numpy as np\n",
    "import pandas as pd\n",
    "import matplotlib.pyplot as plt\n",
    "import os"
   ]
  },
  {
   "cell_type": "markdown",
   "id": "c79092d8-543d-4850-9a69-e364c9f8e003",
   "metadata": {},
   "source": [
    "## 1. Define some _Functions_ for later reuse\n",
    "- detect_file(caseDirectory, keyword): get file path that contains _keyword_ in the _caseDirectory_ folder\n",
    "- breakthrough_time(caseDirectory): get the breakthrough time of the case in _caseDirectory_ folder\n",
    "- read_file_full(file_path): read the .dat file "
   ]
  },
  {
   "cell_type": "code",
   "execution_count": 3,
   "id": "e2022d64-e457-4dc9-8427-026ffe06a23d",
   "metadata": {},
   "outputs": [],
   "source": [
    "#******** Automatically detect the file containing 'Keyword' and ending with '.dat'*************#\n",
    "def detect_file(caseDirectory, keyword):\n",
    "    \"\"\"\n",
    "    find and return the path to the first .dat file in `caseDirectory` containing `keyword` in the filename.\n",
    "    \"\"\"\n",
    "    for filename in os.listdir(caseDirectory):\n",
    "        if keyword in filename and filename.endswith('.dat'):\n",
    "            file_path = os.path.join(caseDirectory, filename)\n",
    "            print(f\"Using file: {file_path}\")\n",
    "            return file_path\n",
    "    print(f\"No file found with '{keyword}' in the name.\")\n",
    "    exit() \n",
    "\n",
    "#******** Find the breakthrough time *************#\n",
    "def breakthrough_time(caseDirectory):\n",
    "    pd.set_option('display.unicode.east_asian_width', True) #solve the problem of out of order\n",
    "    keyword=\"Data_absorption_time_M\"\n",
    "    file_path=detect_file(caseDirectory, keyword)\n",
    "    #names=('Time','Tag','Mass','Patch')\n",
    "    df = pd.read_table(file_path, sep=r'\\s+')  # read data file\n",
    "    print(df.head())       #output the first 5 line\n",
    "    Time=np.asarray(df['Time'])\n",
    "    Mass=np.asarray(df['Mass'])\n",
    "    # Sort outlet data by Time\n",
    "    sorted_indices = np.argsort(Time)    #returns the indices of the sorted array\n",
    "    Time_sorted = Time[sorted_indices]   #new time array sorted\n",
    "    Mass_sorted = Mass[sorted_indices]   #new time array sorted\n",
    "    breakthrough_time = Time_sorted[0]\n",
    "    print(f\"Breakthrough time: t= {breakthrough_time}\")\n",
    "    return breakthrough_time\n",
    "\n",
    "#******** Read the detected full file, convert column data into arrarys*************#\n",
    "def read_file(file_path, BTtime):\n",
    "    pd.set_option('display.unicode.east_asian_width', True) #solve the problem of out of order\n",
    "    #names=('Time','Mass') \n",
    "    df = pd.read_table(file_path, sep=r'\\s+')  # read data file\n",
    "    print(df.head())       #output the first 5 line\n",
    "    time_full=np.asarray(df['Time'])\n",
    "    mass_full=np.asarray(df['Mass'])\n",
    "\n",
    "    df_filtered=df[df['Time'] < BTtime]   #filter the data before breakthrough \n",
    "    time_BT=np.asarray(df_filtered['Time'])\n",
    "    mass_BT=np.asarray(df_filtered['Mass'])\n",
    "    return time_full, mass_full, time_BT, mass_BT"
   ]
  },
  {
   "cell_type": "markdown",
   "id": "45aa0da5-c96f-469d-a7f4-b8c2f09b28e1",
   "metadata": {},
   "source": [
    "## 2. Solid surface decay\n",
    "\n",
    "We apply first-order surface decay for the grain surface, then solve the advection_diffusion_reaction equations for particles"
   ]
  },
  {
   "cell_type": "code",
   "execution_count": null,
   "id": "40b46821-6885-4935-a1cc-fc36017290fe",
   "metadata": {},
   "outputs": [],
   "source": []
  },
  {
   "cell_type": "markdown",
   "id": "3d407a7a-8a54-4268-ab77-9b69c0d057f1",
   "metadata": {},
   "source": [
    "## 3. Gas surface decay\n",
    "\n",
    "We simply apply the **reacting** boundary condition to the bubble surface."
   ]
  },
  {
   "cell_type": "code",
   "execution_count": 4,
   "id": "b7655f9d-90ad-4249-a265-f7a9efae7b65",
   "metadata": {},
   "outputs": [
    {
     "name": "stdout",
     "output_type": "stream",
     "text": [
      "Using file: /mnt/disk2/OPTOD_ARC_NEW/n13/1_Surface_decay_2d/Particle1e5/Pe1e2/n13_Da_1e0/output/Data_absorption_time_M_advection_diffusion_surface_decay_2d_C_n13_Da_1e0_OF_flow_b_T_Pe_1e2_R_Da_1e0_S_1e-1_1e-3_1e5_I_fluxweighted_O_moments_breakthrough_mass_1e-3_RUN_0.dat\n",
      "          Time  Tag          Mass\n",
      "0   8899.44112    0  7.582867e-08\n",
      "1  10680.34040    1  1.421157e-08\n",
      "2   8862.50099    2  1.868734e-08\n",
      "3  12797.05840    3  4.072471e-10\n",
      "4  19984.36740    4  1.585163e-11\n",
      "Breakthrough time: t= 4613.14572\n",
      "Using file: /mnt/disk2/OPTOD_ARC_NEW/n13/1_Surface_decay_2d/Particle1e5/Pe1e2/n13_Da_1e0/output/Data_mass_M_advection_diffusion_surface_decay_2d_C_n13_Da_1e0_OF_flow_b_T_Pe_1e2_R_Da_1e0_S_1e-1_1e-3_1e5_I_fluxweighted_O_moments_breakthrough_mass_1e-3_RUN_0.dat\n"
     ]
    },
    {
     "ename": "NameError",
     "evalue": "name 'Soli_Pe1e2_Da1e0_Filepath' is not defined",
     "output_type": "error",
     "traceback": [
      "\u001b[31m---------------------------------------------------------------------------\u001b[39m",
      "\u001b[31mNameError\u001b[39m                                 Traceback (most recent call last)",
      "\u001b[36mCell\u001b[39m\u001b[36m \u001b[39m\u001b[32mIn[4]\u001b[39m\u001b[32m, line 7\u001b[39m\n\u001b[32m      5\u001b[39m So_Pe1e2_Da1e0_BTtime=breakthrough_time(So_Pe1e2_Da1e0)                                                  \u001b[38;5;66;03m#get breakthrough time\u001b[39;00m\n\u001b[32m      6\u001b[39m So_Pe1e2_Da1e0_Filepath=detect_file(So_Pe1e2_Da1e0, keyword)                                             \u001b[38;5;66;03m#get \u001b[39;00m\n\u001b[32m----> \u001b[39m\u001b[32m7\u001b[39m So_Pe1e2_Da1e0_Time, Soli_Pe1e2_Da1e0_Mass, So_Pe1e2_Da1e0_time_BT, Soli_Pe1e2_Da1e0_mass_BT=read_file(\u001b[43mSoli_Pe1e2_Da1e0_Filepath\u001b[49m, So_Pe1e2_Da1e0_BTtime)\n",
      "\u001b[31mNameError\u001b[39m: name 'Soli_Pe1e2_Da1e0_Filepath' is not defined"
     ]
    }
   ],
   "source": [
    "keyword=\"Data_mass_M\"\n",
    "\n",
    "#----------------Solid surface Pe1e2 Da1e0-----------------------------------# \n",
    "So_Pe1e2_Da1e0=\"/mnt/disk2/OPTOD_ARC_NEW/n13/1_Surface_decay_2d/Particle1e5/Pe1e2/n13_Da_1e0/output\"     #case folder\n",
    "So_Pe1e2_Da1e0_BTtime=breakthrough_time(So_Pe1e2_Da1e0)                                                  #get breakthrough time\n",
    "So_Pe1e2_Da1e0_Filepath=detect_file(So_Pe1e2_Da1e0, keyword)                                             #get \n",
    "So_Pe1e2_Da1e0_Time, Soli_Pe1e2_Da1e0_Mass, So_Pe1e2_Da1e0_time_BT, Soli_Pe1e2_Da1e0_mass_BT=read_file(Soli_Pe1e2_Da1e0_Filepath, So_Pe1e2_Da1e0_BTtime)\n"
   ]
  },
  {
   "cell_type": "code",
   "execution_count": 5,
   "id": "69ad2b89-7852-41ac-b84e-1538f43e5ba8",
   "metadata": {},
   "outputs": [
    {
     "ename": "NameError",
     "evalue": "name 'Soli_Pe1e2_Da1e0_Time' is not defined",
     "output_type": "error",
     "traceback": [
      "\u001b[31m---------------------------------------------------------------------------\u001b[39m",
      "\u001b[31mNameError\u001b[39m                                 Traceback (most recent call last)",
      "\u001b[36mCell\u001b[39m\u001b[36m \u001b[39m\u001b[32mIn[5]\u001b[39m\u001b[32m, line 2\u001b[39m\n\u001b[32m      1\u001b[39m \u001b[38;5;66;03m#******** Plot data*************#\u001b[39;00m\n\u001b[32m----> \u001b[39m\u001b[32m2\u001b[39m plt.plot(\u001b[43mSoli_Pe1e2_Da1e0_Time\u001b[49m, Soli_Pe1e2_Da1e0_Mass, color=\u001b[33m'\u001b[39m\u001b[33mred\u001b[39m\u001b[33m'\u001b[39m, linestyle=\u001b[33m'\u001b[39m\u001b[33m-\u001b[39m\u001b[33m'\u001b[39m)\n\u001b[32m      3\u001b[39m plt.plot(Soli_Pe1e2_Da1e0_Time, Soli_Pe1e2_Da1e0_Mass, color=\u001b[33m'\u001b[39m\u001b[33mred\u001b[39m\u001b[33m'\u001b[39m, linestyle=\u001b[33m'\u001b[39m\u001b[33m-\u001b[39m\u001b[33m'\u001b[39m)\n\u001b[32m      5\u001b[39m \u001b[38;5;66;03m#******************* Set font and legend ***********************************************#\u001b[39;00m\n\u001b[32m      6\u001b[39m \u001b[38;5;66;03m# Set global font to 'Liberation Serif'\u001b[39;00m\n",
      "\u001b[31mNameError\u001b[39m: name 'Soli_Pe1e2_Da1e0_Time' is not defined"
     ]
    }
   ],
   "source": [
    "#******** Plot data*************#\n",
    "plt.plot(Soli_Pe1e2_Da1e0_Time, Soli_Pe1e2_Da1e0_Mass, color='red', linestyle='-')\n",
    "plt.plot(Soli_Pe1e2_Da1e0_Time, Soli_Pe1e2_Da1e0_Mass, color='red', linestyle='-')\n",
    "\n",
    "#******************* Set font and legend ***********************************************#\n",
    "# Set global font to 'Liberation Serif'\n",
    "rc = {\"font.family\": \"serif\", \"mathtext.fontset\": \"cm\"}\n",
    "plt.rcParams.update(rc)\n",
    "plt.rcParams['font.family'] = ['serif']\n",
    "plt.rcParams[\"font.serif\"] = [\"Liberation Serif\"]\n",
    "# Set specific font properties for labels and legends\n",
    "font_label = {'family': 'Liberation Serif', 'size': 15, 'style': 'italic'}\n",
    "font_legend = {'family': 'Liberation Serif', 'size': 10, 'style': 'italic'}\n",
    "\n",
    "plt.xlabel(r'$t$', font_label)\n",
    "plt.ylabel(r'$M$', font_label)\n",
    "plt.xlim(0,5000)\n",
    "#plt.ylim(0,1.01)\n",
    "#plt.xscale('log')\n",
    "#plt.yscale('log')\n",
    "#plt.grid(axis='y',linestyle=':')\n",
    "#plt.gca().set_aspect(1)\n",
    "#plt.legend(['old_code','new_code'],loc='lower left',markerscale=1,prop=font_legend,frameon=True)\n",
    "plt.savefig('Mass.png', dpi=500, bbox_inches='tight', format='png')\n",
    "#plt.savefig('Draw_caviy_depth.pdf', dpi=500, bbox_inches='tight', format='pdf')\n",
    "#plt.show()"
   ]
  },
  {
   "cell_type": "code",
   "execution_count": null,
   "id": "33c85148-0cb0-4962-8908-ef0c9adf7024",
   "metadata": {},
   "outputs": [],
   "source": []
  },
  {
   "cell_type": "markdown",
   "id": "8b685ae4-86fb-41bd-8953-83c14ba44fe1",
   "metadata": {},
   "source": [
    "## 4. Reverssible gas surface reaction"
   ]
  },
  {
   "cell_type": "code",
   "execution_count": null,
   "id": "7fb75a10-5e07-4cee-9aad-d173e029cc29",
   "metadata": {},
   "outputs": [],
   "source": []
  }
 ],
 "metadata": {
  "kernelspec": {
   "display_name": "Python (myenv)",
   "language": "python",
   "name": "myenv"
  },
  "language_info": {
   "codemirror_mode": {
    "name": "ipython",
    "version": 3
   },
   "file_extension": ".py",
   "mimetype": "text/x-python",
   "name": "python",
   "nbconvert_exporter": "python",
   "pygments_lexer": "ipython3",
   "version": "3.13.5"
  }
 },
 "nbformat": 4,
 "nbformat_minor": 5
}
